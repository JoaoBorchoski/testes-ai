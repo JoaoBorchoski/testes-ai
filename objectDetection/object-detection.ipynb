{
 "cells": [
  {
   "cell_type": "code",
   "execution_count": 8,
   "metadata": {},
   "outputs": [
    {
     "name": "stdout",
     "output_type": "stream",
     "text": [
      "Image ID: vid_4_17560\n"
     ]
    },
    {
     "name": "stderr",
     "output_type": "stream",
     "text": [
      "  0%|          | 0/355 [00:00<?, ?it/s]"
     ]
    },
    {
     "name": "stderr",
     "output_type": "stream",
     "text": [
      "\n"
     ]
    },
    {
     "ename": "FileNotFoundError",
     "evalue": "[Errno 2] No such file or directory: './data/./data/training_images/vid_4_1000.jpg'",
     "output_type": "error",
     "traceback": [
      "\u001b[0;31m---------------------------------------------------------------------------\u001b[0m",
      "\u001b[0;31mFileNotFoundError\u001b[0m                         Traceback (most recent call last)",
      "\u001b[1;32m/opt/teste-python/objectDetection/object-detection.ipynb Cell 1\u001b[0m line \u001b[0;36m5\n\u001b[1;32m     <a href='vscode-notebook-cell://wsl%2Bubuntu/opt/teste-python/objectDetection/object-detection.ipynb#W0sdnNjb2RlLXJlbW90ZQ%3D%3D?line=49'>50</a>\u001b[0m             \u001b[39mif\u001b[39;00m \u001b[39mnot\u001b[39;00m os\u001b[39m.\u001b[39mpath\u001b[39m.\u001b[39mexists(\u001b[39m'\u001b[39m\u001b[39m/tmp/convertor/fold\u001b[39m\u001b[39m{}\u001b[39;00m\u001b[39m/images/\u001b[39m\u001b[39m{}\u001b[39;00m\u001b[39m'\u001b[39m\u001b[39m.\u001b[39mformat(fold,path2save)):\n\u001b[1;32m     <a href='vscode-notebook-cell://wsl%2Bubuntu/opt/teste-python/objectDetection/object-detection.ipynb#W0sdnNjb2RlLXJlbW90ZQ%3D%3D?line=50'>51</a>\u001b[0m                 os\u001b[39m.\u001b[39mmakedirs(\u001b[39m'\u001b[39m\u001b[39m/tmp/convertor/fold\u001b[39m\u001b[39m{}\u001b[39;00m\u001b[39m/images/\u001b[39m\u001b[39m{}\u001b[39;00m\u001b[39m'\u001b[39m\u001b[39m.\u001b[39mformat(fold,path2save))\n\u001b[0;32m---> <a href='vscode-notebook-cell://wsl%2Bubuntu/opt/teste-python/objectDetection/object-detection.ipynb#W0sdnNjb2RlLXJlbW90ZQ%3D%3D?line=51'>52</a>\u001b[0m             sh\u001b[39m.\u001b[39;49mcopy(\u001b[39m\"\u001b[39;49m\u001b[39m./data/\u001b[39;49m\u001b[39m{}\u001b[39;49;00m\u001b[39m/\u001b[39;49m\u001b[39m{}\u001b[39;49;00m\u001b[39m.jpg\u001b[39;49m\u001b[39m\"\u001b[39;49m\u001b[39m.\u001b[39;49mformat(source,name),\u001b[39m'\u001b[39;49m\u001b[39m/tmp/convertor/fold\u001b[39;49m\u001b[39m{}\u001b[39;49;00m\u001b[39m/images/\u001b[39;49m\u001b[39m{}\u001b[39;49;00m\u001b[39m/\u001b[39;49m\u001b[39m{}\u001b[39;49;00m\u001b[39m.jpg\u001b[39;49m\u001b[39m'\u001b[39;49m\u001b[39m.\u001b[39;49mformat(fold,path2save,name))\n\u001b[1;32m     <a href='vscode-notebook-cell://wsl%2Bubuntu/opt/teste-python/objectDetection/object-detection.ipynb#W0sdnNjb2RlLXJlbW90ZQ%3D%3D?line=53'>54</a>\u001b[0m predicted_files \u001b[39m=\u001b[39m []\n\u001b[1;32m     <a href='vscode-notebook-cell://wsl%2Bubuntu/opt/teste-python/objectDetection/object-detection.ipynb#W0sdnNjb2RlLXJlbW90ZQ%3D%3D?line=54'>55</a>\u001b[0m \u001b[39mfor\u001b[39;00m (dirpath, dirnames, filenames) \u001b[39min\u001b[39;00m os\u001b[39m.\u001b[39mwalk(\u001b[39m\"\u001b[39m\u001b[39minference/output\u001b[39m\u001b[39m\"\u001b[39m):\n",
      "File \u001b[0;32m/usr/lib/python3.10/shutil.py:417\u001b[0m, in \u001b[0;36mcopy\u001b[0;34m(src, dst, follow_symlinks)\u001b[0m\n\u001b[1;32m    415\u001b[0m \u001b[39mif\u001b[39;00m os\u001b[39m.\u001b[39mpath\u001b[39m.\u001b[39misdir(dst):\n\u001b[1;32m    416\u001b[0m     dst \u001b[39m=\u001b[39m os\u001b[39m.\u001b[39mpath\u001b[39m.\u001b[39mjoin(dst, os\u001b[39m.\u001b[39mpath\u001b[39m.\u001b[39mbasename(src))\n\u001b[0;32m--> 417\u001b[0m copyfile(src, dst, follow_symlinks\u001b[39m=\u001b[39;49mfollow_symlinks)\n\u001b[1;32m    418\u001b[0m copymode(src, dst, follow_symlinks\u001b[39m=\u001b[39mfollow_symlinks)\n\u001b[1;32m    419\u001b[0m \u001b[39mreturn\u001b[39;00m dst\n",
      "File \u001b[0;32m/usr/lib/python3.10/shutil.py:254\u001b[0m, in \u001b[0;36mcopyfile\u001b[0;34m(src, dst, follow_symlinks)\u001b[0m\n\u001b[1;32m    252\u001b[0m     os\u001b[39m.\u001b[39msymlink(os\u001b[39m.\u001b[39mreadlink(src), dst)\n\u001b[1;32m    253\u001b[0m \u001b[39melse\u001b[39;00m:\n\u001b[0;32m--> 254\u001b[0m     \u001b[39mwith\u001b[39;00m \u001b[39mopen\u001b[39;49m(src, \u001b[39m'\u001b[39;49m\u001b[39mrb\u001b[39;49m\u001b[39m'\u001b[39;49m) \u001b[39mas\u001b[39;00m fsrc:\n\u001b[1;32m    255\u001b[0m         \u001b[39mtry\u001b[39;00m:\n\u001b[1;32m    256\u001b[0m             \u001b[39mwith\u001b[39;00m \u001b[39mopen\u001b[39m(dst, \u001b[39m'\u001b[39m\u001b[39mwb\u001b[39m\u001b[39m'\u001b[39m) \u001b[39mas\u001b[39;00m fdst:\n\u001b[1;32m    257\u001b[0m                 \u001b[39m# macOS\u001b[39;00m\n",
      "\u001b[0;31mFileNotFoundError\u001b[0m: [Errno 2] No such file or directory: './data/./data/training_images/vid_4_1000.jpg'"
     ]
    }
   ],
   "source": [
    "import os, time, random\n",
    "import numpy as np\n",
    "import pandas as pd\n",
    "import cv2, torch\n",
    "from tqdm.auto import tqdm\n",
    "import shutil as sh\n",
    "\n",
    "from IPython.display import Image, clear_output\n",
    "import matplotlib.pyplot as plt\n",
    "\n",
    "img_h, img_w, num_channels = (380, 676, 3)\n",
    "df = pd.read_csv('./data/train_solution_bounding_boxes (1).csv')\n",
    "df.rename(columns={'image':'image_id'}, inplace=True)\n",
    "df['image_id'] = df['image_id'].apply(lambda x: x.split('.')[0])\n",
    "df['x_center'] = (df['xmin'] + df['xmax'])/2\n",
    "df['y_center'] = (df['ymin'] + df['ymax'])/2\n",
    "df['w'] = df['xmax'] - df['xmin']\n",
    "df['h'] = df['ymax'] - df['ymin']\n",
    "df['classes'] = 0\n",
    "df['x_center'] = df['x_center']/img_w\n",
    "df['w'] = df['w']/img_w\n",
    "df['y_center'] = df['y_center']/img_h\n",
    "df['h'] = df['h']/img_h\n",
    "\n",
    "index = list(set(df.image_id))\n",
    "image = random.choice(index)\n",
    "print(\"Image ID: %s\"%(image))\n",
    "img = cv2.imread(f'./data/training_images/{image}.jpg')\n",
    "image = random.choice(index)\n",
    "Image(filename=f'./data/training_images/{image}.jpg',width=600)\n",
    "\n",
    "source = 'training_images'\n",
    "if True:\n",
    "    for fold in [0]:\n",
    "        val_index = index[len(index)*fold//5:len(index)*(fold+1)//5]\n",
    "        for name,mini in tqdm(df.groupby('image_id')):\n",
    "            if name in val_index:\n",
    "                path2save = 'val2017/'\n",
    "            else:\n",
    "                path2save = 'train2017/'\n",
    "            if not os.path.exists('/tmp/convertor/fold{}/labels/'.format(fold)+path2save):\n",
    "                os.makedirs('/tmp/convertor/fold{}/labels/'.format(fold)+path2save)\n",
    "            with open('/tmp/convertor/fold{}/labels/'.format(fold)+path2save+name+\".txt\", 'w+') as f:\n",
    "                row = mini[['classes','x_center','y_center','w','h']].astype(float).values\n",
    "                row = row.astype(str)\n",
    "                for j in range(len(row)):\n",
    "                    text = ' '.join(row[j])\n",
    "                    f.write(text)\n",
    "                    f.write(\"\\n\")\n",
    "            if not os.path.exists('/tmp/convertor/fold{}/images/{}'.format(fold,path2save)):\n",
    "                os.makedirs('/tmp/convertor/fold{}/images/{}'.format(fold,path2save))\n",
    "            sh.copy(\"./data/{}/{}.jpg\".format(source,name),'/tmp/convertor/fold{}/images/{}/{}.jpg'.format(fold,path2save,name))\n",
    "\n",
    "predicted_files = []\n",
    "for (dirpath, dirnames, filenames) in os.walk(\"inference/output\"):\n",
    "    predicted_files.extend(filenames)\n",
    "Image(filename=f'inference/output/{random.choice(predicted_files)}')"
   ]
  }
 ],
 "metadata": {
  "kernelspec": {
   "display_name": ".venv",
   "language": "python",
   "name": "python3"
  },
  "language_info": {
   "codemirror_mode": {
    "name": "ipython",
    "version": 3
   },
   "file_extension": ".py",
   "mimetype": "text/x-python",
   "name": "python",
   "nbconvert_exporter": "python",
   "pygments_lexer": "ipython3",
   "version": "3.10.12"
  }
 },
 "nbformat": 4,
 "nbformat_minor": 2
}
